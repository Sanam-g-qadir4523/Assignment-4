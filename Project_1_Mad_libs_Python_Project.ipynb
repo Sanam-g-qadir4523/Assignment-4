{
  "nbformat": 4,
  "nbformat_minor": 0,
  "metadata": {
    "colab": {
      "provenance": [],
      "authorship_tag": "ABX9TyPsEnvui211+aQtTsHcVV54",
      "include_colab_link": true
    },
    "kernelspec": {
      "name": "python3",
      "display_name": "Python 3"
    },
    "language_info": {
      "name": "python"
    }
  },
  "cells": [
    {
      "cell_type": "markdown",
      "metadata": {
        "id": "view-in-github",
        "colab_type": "text"
      },
      "source": [
        "<a href=\"https://colab.research.google.com/github/Sanam-g-qadir4523/Assignment-4/blob/main/Project_1_Mad_libs_Python_Project.ipynb\" target=\"_parent\"><img src=\"https://colab.research.google.com/assets/colab-badge.svg\" alt=\"Open In Colab\"/></a>"
      ]
    },
    {
      "cell_type": "code",
      "source": [
        "import random\n",
        "from IPython.display import display, HTML\n",
        "\n",
        "# Styling (Colab-friendly)\n",
        "display(HTML(\"\"\"\n",
        "<style>\n",
        "h1 { color: #FF3B30; text-align: center; font-family: sans-serif; }\n",
        "h3 { color: #FF6F61; }\n",
        "p, li { font-size: 16px; font-family: sans-serif; }\n",
        "</style>\n",
        "\"\"\"))\n",
        "\n",
        "# Title and Instructions\n",
        "display(HTML(\"<h1>🎭 Fun Mad Libs Game! 🤪</h1>\"))\n",
        "display(HTML(\"<p style='text-align: center;'>Fill in the blanks and create a hilarious story! 🎉</p>\"))\n",
        "\n",
        "display(HTML(\"<h3>🎮 How to Play:</h3>\"))\n",
        "display(HTML(\"\"\"\n",
        "<ol>\n",
        "  <li>Enter the words as prompted – <b>your name</b>, <b>a place</b>, <b>an animal</b>, <b>a food</b>, <b>a verb</b>, and <b>a adjective</b>.</li>\n",
        "  <li>Run the next cell to see your custom funny story. 😂🎉</li>\n",
        "</ol>\n",
        "\"\"\"))\n",
        "\n",
        "# --- INPUTS ---\n",
        "print(\"🔤 Enter Your Words:\\n\")\n",
        "name = input(\"🧑 Your Name: \")\n",
        "place = input(\"🌍 A Place: \")\n",
        "animal = input(\"🐾 An Animal: \")\n",
        "food = input(\"🍕 A Food Item: \")\n",
        "verb = input(\"🏃 An Action (Verb): \")\n",
        "adjective = input(\"🎨 A Describing Word: \")\n",
        "\n",
        "# --- STORY GENERATOR ---\n",
        "story = f\"\"\"\n",
        "Once upon a time, {name} went to {place}.\n",
        "There, they saw a {adjective} {animal} trying to {verb} while eating {food}.\n",
        "It was the funniest thing ever! 😂\n",
        "\"\"\"\n",
        "\n",
        "print(\"\\n📖 Your Mad Libs Story:\\n\")\n",
        "print(story)\n"
      ],
      "metadata": {
        "colab": {
          "base_uri": "https://localhost:8080/",
          "height": 478
        },
        "id": "6eyS0_cKPbTb",
        "outputId": "14f217bd-7278-43ec-bd19-bca9503f24f3"
      },
      "execution_count": null,
      "outputs": [
        {
          "output_type": "display_data",
          "data": {
            "text/plain": [
              "<IPython.core.display.HTML object>"
            ],
            "text/html": [
              "\n",
              "<style>\n",
              "h1 { color: #FF3B30; text-align: center; font-family: sans-serif; }\n",
              "h3 { color: #FF6F61; }\n",
              "p, li { font-size: 16px; font-family: sans-serif; }\n",
              "</style>\n"
            ]
          },
          "metadata": {}
        },
        {
          "output_type": "display_data",
          "data": {
            "text/plain": [
              "<IPython.core.display.HTML object>"
            ],
            "text/html": [
              "<h1>🎭 Fun Mad Libs Game! 🤪</h1>"
            ]
          },
          "metadata": {}
        },
        {
          "output_type": "display_data",
          "data": {
            "text/plain": [
              "<IPython.core.display.HTML object>"
            ],
            "text/html": [
              "<p style='text-align: center;'>Fill in the blanks and create a hilarious story! 🎉</p>"
            ]
          },
          "metadata": {}
        },
        {
          "output_type": "display_data",
          "data": {
            "text/plain": [
              "<IPython.core.display.HTML object>"
            ],
            "text/html": [
              "<h3>🎮 How to Play:</h3>"
            ]
          },
          "metadata": {}
        },
        {
          "output_type": "display_data",
          "data": {
            "text/plain": [
              "<IPython.core.display.HTML object>"
            ],
            "text/html": [
              "\n",
              "<ol>\n",
              "  <li>Enter the words as prompted – <b>your name</b>, <b>a place</b>, <b>an animal</b>, <b>a food</b>, <b>a verb</b>, and <b>a adjective</b>.</li>\n",
              "  <li>Run the next cell to see your custom funny story. 😂🎉</li>\n",
              "</ol>\n"
            ]
          },
          "metadata": {}
        },
        {
          "output_type": "stream",
          "name": "stdout",
          "text": [
            "🔤 Enter Your Words:\n",
            "\n",
            "🧑 Your Name: sana\n",
            "🌍 A Place: karachi\n",
            "🐾 An Animal: peacock\n",
            "🍕 A Food Item: baryani\n",
            "🏃 An Action (Verb): sleeping\n",
            "🎨 A Describing Word: I am sleeping\n",
            "\n",
            "📖 Your Mad Libs Story:\n",
            "\n",
            "\n",
            "Once upon a time, sana went to karachi. \n",
            "There, they saw a I am sleeping peacock trying to sleeping while eating baryani. \n",
            "It was the funniest thing ever! 😂\n",
            "\n"
          ]
        }
      ]
    }
  ]
}