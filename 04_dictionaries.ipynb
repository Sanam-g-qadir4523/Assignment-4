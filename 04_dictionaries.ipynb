{
  "nbformat": 4,
  "nbformat_minor": 0,
  "metadata": {
    "colab": {
      "provenance": [],
      "authorship_tag": "ABX9TyMAjrH15OILlkHs2RDRrqfj",
      "include_colab_link": true
    },
    "kernelspec": {
      "name": "python3",
      "display_name": "Python 3"
    },
    "language_info": {
      "name": "python"
    }
  },
  "cells": [
    {
      "cell_type": "markdown",
      "metadata": {
        "id": "view-in-github",
        "colab_type": "text"
      },
      "source": [
        "<a href=\"https://colab.research.google.com/github/Sanam-g-qadir4523/Assignment-4/blob/main/04_dictionaries.ipynb\" target=\"_parent\"><img src=\"https://colab.research.google.com/assets/colab-badge.svg\" alt=\"Open In Colab\"/></a>"
      ]
    },
    {
      "cell_type": "code",
      "source": [],
      "metadata": {
        "id": "r_h8My3tUSVa"
      },
      "execution_count": null,
      "outputs": []
    },
    {
      "cell_type": "code",
      "execution_count": null,
      "metadata": {
        "id": "G6n20QR6MBbX",
        "colab": {
          "base_uri": "https://localhost:8080/"
        },
        "outputId": "ad146a7d-a6cf-4aff-8d27-bf53b14ad1f3"
      },
      "outputs": [
        {
          "output_type": "stream",
          "name": "stdout",
          "text": [
            "00_count_nums\n",
            "Enter a number (or 'Exit' to quit): 3\n",
            "{3: 1}\n",
            "Enter a number (or 'Exit' to quit): 3\n",
            "{3: 2}\n",
            "Enter a number (or 'Exit' to quit): 1\n",
            "{3: 2, 1: 1}\n",
            "Enter a number (or 'Exit' to quit): 8\n",
            "{3: 2, 1: 1, 8: 1}\n",
            "Enter a number (or 'Exit' to quit): 3\n",
            "{3: 3, 1: 1, 8: 1}\n",
            "Enter a number (or 'Exit' to quit): 7\n",
            "{3: 3, 1: 1, 8: 1, 7: 1}\n",
            "Enter a number (or 'Exit' to quit): 9\n",
            "{3: 3, 1: 1, 8: 1, 7: 1, 9: 1}\n",
            "Enter a number (or 'Exit' to quit): Exit\n",
            "\n",
            "Number counts:\n",
            "3 appears 3 times\n",
            "1 appears 1 times\n",
            "8 appears 1 times\n",
            "7 appears 1 times\n",
            "9 appears 1 times\n"
          ]
        }
      ],
      "source": [
        "print(\"00_count_nums\")\n",
        "\n",
        "def count_numbers():\n",
        "    count_dict = {}\n",
        "\n",
        "    while True:\n",
        "        num = input(\"Enter a number (or 'Exit' to quit): \")\n",
        "        if num.lower() == 'exit':\n",
        "            break\n",
        "        if num.isdigit():\n",
        "            num = int(num)\n",
        "            count_dict[num] = count_dict.get(num, 0) + 1\n",
        "            print(count_dict)\n",
        "        else:\n",
        "            print(\"Invalid input. Please enter a number or 'Exit'.\")\n",
        "\n",
        "    return count_dict\n",
        "\n",
        "def display_counts(count_dict):\n",
        "    if not count_dict:\n",
        "        print(\"\\nNo numbers were entered.\")\n",
        "    else:\n",
        "        print(\"\\nNumber counts:\")\n",
        "        for key, value in count_dict.items():\n",
        "            print(f'{key} appears {value} times')\n",
        "\n",
        "if __name__ == \"__main__\":\n",
        "    count = count_numbers()\n",
        "    display_counts(count)\n",
        "\n",
        "\n",
        "\n",
        "\n",
        "\n",
        "\n",
        "\n",
        "\n"
      ]
    },
    {
      "cell_type": "code",
      "source": [
        "print(\"01_phonebook\")\n",
        "\n",
        "def add_contact(phonebook):\n",
        "    name = input(\"Enter contact name: \")\n",
        "    number = input(\"Enter contact number: \")\n",
        "\n",
        "    if name in phonebook:\n",
        "        print(f\"{name} already exists in the phonebook.\")\n",
        "    else:\n",
        "        phonebook[name] = number\n",
        "        print(f\"{name} added to the phonebook.\")\n",
        "\n",
        "def search_contact(phonebook):\n",
        "    name = input(\"Enter contact name to search: \")\n",
        "    if name in phonebook:\n",
        "        print(f\"{name}: {phonebook[name]}\")\n",
        "    else:\n",
        "        print(f\"{name} not found in the phonebook.\")\n",
        "\n",
        "def delete_contact(phonebook):\n",
        "    name = input(\"Enter contact name to delete: \")\n",
        "    if name in phonebook:\n",
        "        del phonebook[name]\n",
        "        print(f\"{name} deleted from the phonebook.\")\n",
        "    else:\n",
        "        print(f\"{name} not found in the phonebook.\")\n",
        "\n",
        "def display_contact(phonebook):\n",
        "    if phonebook:\n",
        "        for name, number in phonebook.items():\n",
        "            print(f\"{name}: {number}\")\n",
        "    else:\n",
        "        print(\"Phonebook is empty.\")\n",
        "\n",
        "if __name__ == \"__main__\":\n",
        "    phonebook = {}\n",
        "\n",
        "    while True:\n",
        "        print(\"\\nPhonebook Menu\")\n",
        "        print(\"1. Add Contact\")\n",
        "        print(\"2. Search Contact\")\n",
        "        print(\"3. Delete Contact\")\n",
        "        print(\"4. Display Contacts\")\n",
        "        print(\"5. Exit\")\n",
        "\n",
        "        choice = input(\"Enter your choice (1-5): \")\n",
        "\n",
        "        if choice == '1':\n",
        "            add_contact(phonebook)\n",
        "        elif choice == '2':\n",
        "            search_contact(phonebook)\n",
        "        elif choice == '3':\n",
        "            delete_contact(phonebook)\n",
        "        elif choice == '4':\n",
        "            display_contact(phonebook)\n",
        "        elif choice == '5':\n",
        "            print(\"Exiting Phonebook. Goodbye!\")\n",
        "            break\n",
        "        else:\n",
        "            print(\"Invalid choice. Please enter a number between 1 and 5.\")\n",
        "\n",
        "\n",
        "\n",
        "\n"
      ],
      "metadata": {
        "colab": {
          "base_uri": "https://localhost:8080/"
        },
        "id": "8PgMS-20VRey",
        "outputId": "49266bac-dbd7-4b32-9651-0b566cc4624f"
      },
      "execution_count": null,
      "outputs": [
        {
          "output_type": "stream",
          "name": "stdout",
          "text": [
            "01_phonebook\n",
            "\n",
            "Phonebook Menu\n",
            "1. Add Contact\n",
            "2. Search Contact\n",
            "3. Delete Contact\n",
            "4. Display Contacts\n",
            "5. Exit\n",
            "Enter your choice (1-5): 1\n",
            "Enter contact name: aliza\n",
            "Enter contact number: 0317764522345\n",
            "aliza added to the phonebook.\n",
            "\n",
            "Phonebook Menu\n",
            "1. Add Contact\n",
            "2. Search Contact\n",
            "3. Delete Contact\n",
            "4. Display Contacts\n",
            "5. Exit\n",
            "Enter your choice (1-5): 2\n",
            "Enter contact name to search: aliza\n",
            "aliza: 0317764522345\n",
            "\n",
            "Phonebook Menu\n",
            "1. Add Contact\n",
            "2. Search Contact\n",
            "3. Delete Contact\n",
            "4. Display Contacts\n",
            "5. Exit\n",
            "Enter your choice (1-5): 3\n",
            "Enter contact name to delete: aliza\n",
            "aliza deleted from the phonebook.\n",
            "\n",
            "Phonebook Menu\n",
            "1. Add Contact\n",
            "2. Search Contact\n",
            "3. Delete Contact\n",
            "4. Display Contacts\n",
            "5. Exit\n",
            "Enter your choice (1-5): 4\n",
            "Phonebook is empty.\n",
            "\n",
            "Phonebook Menu\n",
            "1. Add Contact\n",
            "2. Search Contact\n",
            "3. Delete Contact\n",
            "4. Display Contacts\n",
            "5. Exit\n",
            "Enter your choice (1-5): aliza\n",
            "Invalid choice. Please enter a number between 1 and 5.\n",
            "\n",
            "Phonebook Menu\n",
            "1. Add Contact\n",
            "2. Search Contact\n",
            "3. Delete Contact\n",
            "4. Display Contacts\n",
            "5. Exit\n",
            "Enter your choice (1-5): 5\n",
            "Exiting Phonebook. Goodbye!\n"
          ]
        }
      ]
    },
    {
      "cell_type": "code",
      "source": [
        "print(\"02_pop_up_shop\")\n",
        "\n",
        "def calculate_total_cost():\n",
        "    fruits_price = {\n",
        "        \"apple\": 5.0,\n",
        "        \"mango\": 15.0,\n",
        "        \"kiwi\": 8.0,\n",
        "        \"pear\": 12.0,\n",
        "        \"banana\": 6.0,\n",
        "        \"orange\": 10.0\n",
        "    }\n",
        "\n",
        "    total_cost = 0\n",
        "\n",
        "    for fruit, price in fruits_price.items():\n",
        "        while True:\n",
        "            try:\n",
        "                quantity = int(input(f\"How many {fruit}s do you want?: \"))\n",
        "                if quantity < 0:\n",
        "                    print(\"Invalid input. Please enter a non-negative number.\")\n",
        "                    continue\n",
        "                total_cost += price * quantity\n",
        "                break\n",
        "            except ValueError:\n",
        "                print(\"Invalid input. Please enter a valid number.\")\n",
        "\n",
        "    print(f\"\\nYour total cost is: ${total_cost:.2f}\")\n",
        "\n",
        "if __name__ == \"__main__\":\n",
        "    calculate_total_cost()\n",
        "\n"
      ],
      "metadata": {
        "colab": {
          "base_uri": "https://localhost:8080/"
        },
        "id": "DKH1xo8-j0XR",
        "outputId": "e2daf556-3d35-4063-c975-205a0907e236"
      },
      "execution_count": null,
      "outputs": [
        {
          "output_type": "stream",
          "name": "stdout",
          "text": [
            "02_pop_up_shop\n",
            "How many apples do you want?: 2\n",
            "How many mangos do you want?: 4\n",
            "How many kiwis do you want?: 5\n",
            "How many pears do you want?: 7\n",
            "How many bananas do you want?: 8\n",
            "How many oranges do you want?: 11\n",
            "\n",
            "Your total cost is: $352.00\n"
          ]
        }
      ]
    },
    {
      "cell_type": "code",
      "source": [
        "print(\"03_powerful_passwords\")\n",
        "\n",
        "import hashlib\n",
        "\n",
        "def hash_password(password):\n",
        "    return hashlib.sha256(password.encode()).hexdigest()\n",
        "\n",
        "stored_logins = {\n",
        "    \"user@example.com\": hash_password(\"password\"),\n",
        "    \"admin@example.com\": hash_password(\"adminpass\")\n",
        "}\n",
        "\n",
        "def login(email, password):\n",
        "    if email in stored_logins:\n",
        "        return stored_logins[email] == hash_password(password)\n",
        "    return False\n",
        "\n",
        "if __name__ == \"__main__\":\n",
        "    email = input(\"Enter your email: \")\n",
        "    password = input(\"Enter your password: \")\n",
        "\n",
        "    if login(email, password):\n",
        "        print(\"Login successful\")\n",
        "    else:\n",
        "        print(\"Invalid email or password\")\n"
      ],
      "metadata": {
        "colab": {
          "base_uri": "https://localhost:8080/"
        },
        "id": "z94JRy3ErDYD",
        "outputId": "6d5a723e-21bd-43d2-b9cd-410d99eee6b2"
      },
      "execution_count": null,
      "outputs": [
        {
          "output_type": "stream",
          "name": "stdout",
          "text": [
            "03_powerful_passwords\n",
            "Enter your email: user@example.com\n",
            "Enter your password: password\n",
            "Login successful\n"
          ]
        }
      ]
    }
  ]
}