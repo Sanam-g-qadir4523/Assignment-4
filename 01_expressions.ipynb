{
  "nbformat": 4,
  "nbformat_minor": 0,
  "metadata": {
    "colab": {
      "provenance": [],
      "authorship_tag": "ABX9TyNAVerhfIQMjAgR39mFR3FW",
      "include_colab_link": true
    },
    "kernelspec": {
      "name": "python3",
      "display_name": "Python 3"
    },
    "language_info": {
      "name": "python"
    }
  },
  "cells": [
    {
      "cell_type": "markdown",
      "metadata": {
        "id": "view-in-github",
        "colab_type": "text"
      },
      "source": [
        "<a href=\"https://colab.research.google.com/github/Sanam-g-qadir4523/Assignment-4/blob/main/01_expressions.ipynb\" target=\"_parent\"><img src=\"https://colab.research.google.com/assets/colab-badge.svg\" alt=\"Open In Colab\"/></a>"
      ]
    },
    {
      "cell_type": "code",
      "execution_count": null,
      "metadata": {
        "colab": {
          "base_uri": "https://localhost:8080/"
        },
        "id": "KinAat5ztLFV",
        "outputId": "e704959e-05a2-4ef5-f842-5fb70816bd56"
      },
      "outputs": [
        {
          "output_type": "stream",
          "name": "stdout",
          "text": [
            "01_dicesimulator\n",
            "die1 in main() starts as: 10\n",
            "Total of two dice: 5\n",
            "Total of two dice: 10\n",
            "Total of two dice: 2\n"
          ]
        }
      ],
      "source": [
        "import random\n",
        "\n",
        "print(\"01_dicesimulator\")\n",
        "\n",
        "def roll_dice():\n",
        "    die1: int = random.randint(1, 6)\n",
        "    die2: int = random.randint(1, 6)\n",
        "    total: int = die1 + die2\n",
        "    print(f'Total of two dice: {total}')\n",
        "\n",
        "def main():\n",
        "    die1: int = 10\n",
        "    print(\"die1 in main() starts as: \" + str(die1))\n",
        "    roll_dice()\n",
        "    roll_dice()\n",
        "    roll_dice()\n",
        "\n",
        "if __name__ == \"__main__\":\n",
        "    main()"
      ]
    },
    {
      "cell_type": "code",
      "source": [
        "print(\"02_e=mc2\")\n",
        "\n",
        "def energy():\n",
        "    c: float = 299792458  # Speed of light in m/s\n",
        "    try:\n",
        "        m: float = float(input(\"Enter kilograms of mass: \"))\n",
        "        print(\"\\ne = m*c^2\")\n",
        "        print(f\"Mass = {m} kg\")\n",
        "        print(f\"C = {c} m/s\")\n",
        "        print(f\"e = {m * c ** 2} joules\")\n",
        "    except ValueError:\n",
        "        print(\"Error: Please enter a valid number for mass\")\n",
        "\n",
        "if __name__ == \"__main__\":\n",
        "    energy()"
      ],
      "metadata": {
        "colab": {
          "base_uri": "https://localhost:8080/"
        },
        "id": "yXltXpYavz6x",
        "outputId": "9b04105c-fcd9-4217-c5a8-5ef61c4b8a30"
      },
      "execution_count": null,
      "outputs": [
        {
          "output_type": "stream",
          "name": "stdout",
          "text": [
            "02_e=mc2\n",
            "Enter kilograms of mass: 20\n",
            "\n",
            "e = m*c^2\n",
            "Mass = 20.0 kg\n",
            "C = 299792458 m/s\n",
            "e = 1.7975103574736353e+18 joules\n"
          ]
        }
      ]
    },
    {
      "cell_type": "code",
      "source": [
        "print(\"03_feet_to_inches\")\n",
        "\n",
        "def feet_to_inches():\n",
        "    INCHES_PER_FOOT: int = 12\n",
        "\n",
        "    try:\n",
        "        feet: int = int(input(\"Enter feet and I will convert to inches: \"))\n",
        "        print(f\"\\nThere are {INCHES_PER_FOOT * feet} inches in {feet} feet.\")\n",
        "    except ValueError:\n",
        "        print(\"Error: Please enter a whole number for feet\")\n",
        "\n",
        "if __name__ == \"__main__\":\n",
        "    feet_to_inches()"
      ],
      "metadata": {
        "colab": {
          "base_uri": "https://localhost:8080/"
        },
        "id": "6SVtPLh1yQpN",
        "outputId": "813efd14-f56b-4847-dc18-55897c9e3f5f"
      },
      "execution_count": null,
      "outputs": [
        {
          "output_type": "stream",
          "name": "stdout",
          "text": [
            "03_feet_to_inches\n",
            "Enter feet and I will convert to inches: 18\n",
            "\n",
            "There are 216 inches in 18 feet.\n"
          ]
        }
      ]
    },
    {
      "cell_type": "code",
      "source": [],
      "metadata": {
        "id": "IecIqxUh0pjF"
      },
      "execution_count": null,
      "outputs": []
    },
    {
      "cell_type": "code",
      "source": [
        "import math\n",
        "\n",
        "print(\"04_pythagorean_theorem\")\n",
        "\n",
        "def triangle():\n",
        "\n",
        "        ab: float = float(input(\"Enter the length of side ab: \"))\n",
        "        ac: float = float(input(\"Enter the length of side ac: \"))\n",
        "        bc: float = math.sqrt(ab**2 + ac**2)\n",
        "\n",
        "        print(f\"\\nThe length of BC (the hypotenuse) is: {bc}\")\n",
        "\n",
        "if __name__ == \"__main__\":\n",
        "  triangle()"
      ],
      "metadata": {
        "colab": {
          "base_uri": "https://localhost:8080/"
        },
        "id": "-Jk_fQ8EydiO",
        "outputId": "8436ae88-f8b5-4ba2-aa9c-9986189861ec"
      },
      "execution_count": null,
      "outputs": [
        {
          "output_type": "stream",
          "name": "stdout",
          "text": [
            "04_pythagorean_theorem\n",
            "Enter the length of side ab: 20\n",
            "Enter the length of side ac: 10\n",
            "\n",
            "The length of BC (the hypotenuse) is: 22.360679774997898\n"
          ]
        }
      ]
    },
    {
      "cell_type": "code",
      "source": [
        "print(\"05_remainder_division\")\n",
        "\n",
        "def reminder():\n",
        "\n",
        "        num1: int = int(input(\"Enter an integer to be divided: \"))\n",
        "        num2: int = int(input(\"Enter an integer to divide by: \"))\n",
        "        quotient: int = num1 // num2\n",
        "        remainder: int = num1 % num2\n",
        "\n",
        "        print(f\"\\nThe result of division is {quotient} with a remainder of {remainder}\")\n",
        "if __name__ == \"__main__\":\n",
        "    reminder()"
      ],
      "metadata": {
        "colab": {
          "base_uri": "https://localhost:8080/"
        },
        "id": "K3TQzZ821Whm",
        "outputId": "3ec1cd43-8cbf-4bf1-a320-b1ca5b7cfa86"
      },
      "execution_count": null,
      "outputs": [
        {
          "output_type": "stream",
          "name": "stdout",
          "text": [
            "05_remainder_division\n",
            "Enter an integer to be divided: 10\n",
            "Enter an integer to divide by: 4\n",
            "\n",
            "The result of division is 2 with a remainder of 2\n"
          ]
        }
      ]
    },
    {
      "cell_type": "code",
      "source": [
        "import random\n",
        "\n",
        "print(\"06_rolldice\")\n",
        "\n",
        "def dice():\n",
        "    die1: int = random.randint(1, 6)\n",
        "    die2: int = random.randint(1, 6)\n",
        "    total: int = die1 + die2\n",
        "\n",
        "    print(\"First die:\", die1)\n",
        "    print(\"Second die:\", die2)\n",
        "    print(f\"Total of two dice: {total}\")\n",
        "\n",
        "if __name__ == \"__main__\":\n",
        "    dice()"
      ],
      "metadata": {
        "colab": {
          "base_uri": "https://localhost:8080/"
        },
        "id": "aE5SQjWx4-k0",
        "outputId": "135b2ca9-c24c-4018-bed0-fe2577a73649"
      },
      "execution_count": null,
      "outputs": [
        {
          "output_type": "stream",
          "name": "stdout",
          "text": [
            "06_rolldice\n",
            "First die: 2\n",
            "Second die: 3\n",
            "Total of two dice: 5\n"
          ]
        }
      ]
    },
    {
      "cell_type": "code",
      "source": [
        "print(\"06_seconds_in_year\")\n",
        "\n",
        "def calculate_seconds():\n",
        "    days_in_year: int = 365\n",
        "    hours_per_day: int = 24\n",
        "    minutes_per_hour: int = 60\n",
        "    seconds_per_minute: int = 60\n",
        "\n",
        "    total_seconds = days_in_year * hours_per_day * minutes_per_hour * seconds_per_minute\n",
        "    print(f\"There are {total_seconds:,} seconds in a year.\")\n",
        "\n",
        "if __name__ == \"__main__\":\n",
        "    calculate_seconds()"
      ],
      "metadata": {
        "colab": {
          "base_uri": "https://localhost:8080/"
        },
        "id": "ZCHpXEqL5TMU",
        "outputId": "154242dc-4a09-43b7-8576-1286fcd08cd2"
      },
      "execution_count": null,
      "outputs": [
        {
          "output_type": "stream",
          "name": "stdout",
          "text": [
            "06_seconds_in_year\n",
            "There are 31,536,000 seconds in a year.\n"
          ]
        }
      ]
    },
    {
      "cell_type": "code",
      "source": [
        "print(\"7_tiny_mad_lib\")\n",
        "\n",
        "def mad_lib():\n",
        "\n",
        "        noun: str = input(\"Enter a noun: \")\n",
        "        adjective: str = input(\"Enter an adjective: \")\n",
        "        verb: str = input(\"Enter a verb: \")\n",
        "        print(f\"Do you {verb} your {adjective} {noun}?\")\n",
        "\n",
        "if __name__ == \"__main__\":\n",
        "    mad_lib()"
      ],
      "metadata": {
        "colab": {
          "base_uri": "https://localhost:8080/"
        },
        "id": "p-g5Ozdp6ntH",
        "outputId": "cacdd29a-c9dd-4c67-c6bb-6908d3127f06"
      },
      "execution_count": null,
      "outputs": [
        {
          "output_type": "stream",
          "name": "stdout",
          "text": [
            "7_tiny_mad_lib\n",
            "Enter a noun: sana\n",
            "Enter an adjective: cool\n",
            "Enter a verb: code\n",
            "Do you code your cool sana?\n"
          ]
        }
      ]
    }
  ]
}