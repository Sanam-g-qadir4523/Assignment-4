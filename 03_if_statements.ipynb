{
  "nbformat": 4,
  "nbformat_minor": 0,
  "metadata": {
    "colab": {
      "provenance": [],
      "authorship_tag": "ABX9TyORL50RD74KcugWxK8y/N3a",
      "include_colab_link": true
    },
    "kernelspec": {
      "name": "python3",
      "display_name": "Python 3"
    },
    "language_info": {
      "name": "python"
    }
  },
  "cells": [
    {
      "cell_type": "markdown",
      "metadata": {
        "id": "view-in-github",
        "colab_type": "text"
      },
      "source": [
        "<a href=\"https://colab.research.google.com/github/Sanam-g-qadir4523/Assignment-4/blob/main/03_if_statements.ipynb\" target=\"_parent\"><img src=\"https://colab.research.google.com/assets/colab-badge.svg\" alt=\"Open In Colab\"/></a>"
      ]
    },
    {
      "cell_type": "code",
      "execution_count": null,
      "metadata": {
        "colab": {
          "base_uri": "https://localhost:8080/"
        },
        "id": "BZpl2p4m2Eim",
        "outputId": "2ae4c7d9-4a53-4e94-f20e-33b0f6dd4c1c"
      },
      "outputs": [
        {
          "output_type": "stream",
          "name": "stdout",
          "text": [
            "01_print_events\n",
            "0\n",
            "2\n",
            "4\n",
            "6\n",
            "8\n",
            "10\n",
            "12\n",
            "14\n",
            "16\n",
            "18\n",
            "20\n",
            "22\n",
            "24\n",
            "26\n",
            "28\n",
            "30\n",
            "32\n",
            "34\n",
            "36\n",
            "38\n",
            "40\n",
            "42\n",
            "44\n",
            "46\n",
            "48\n",
            "50\n",
            "52\n",
            "54\n",
            "56\n",
            "58\n",
            "60\n",
            "62\n",
            "64\n",
            "66\n",
            "68\n",
            "70\n",
            "72\n",
            "74\n",
            "76\n",
            "78\n"
          ]
        }
      ],
      "source": [
        "print(\"01_print_events\")\n",
        "\n",
        "def even():\n",
        "    for i in range(40):\n",
        "        even = i * 2\n",
        "        print(even)\n",
        "    # print(\"Here is 20 even numbers are: \", i * 2)\n",
        "\n",
        "if __name__ == \"__main__\":\n",
        "    even()"
      ]
    },
    {
      "cell_type": "code",
      "source": [
        "print(\"02_international_voting_age\")\n",
        "\n",
        "Peturksbouipo: int = 16\n",
        "Stanlau: int = 25\n",
        "Mayengua: int = 48\n",
        "\n",
        "def main():\n",
        "    age: int = int(input(\"How old are you? \"))  # Added missing age input\n",
        "\n",
        "    if age >= Peturksbouipo:\n",
        "        print(f\"Your age is {age}. You are eligible to vote in Peturksbouipo!\")\n",
        "    else:\n",
        "        print(f\"Your age is {age}. You are not eligible to vote in Peturksbouipo!\")\n",
        "\n",
        "    if age >= Stanlau:\n",
        "        print(f\"Your age is {age}. You are eligible to vote in Stanlau!\")\n",
        "    else:\n",
        "        print(f\"Your age is {age}. You are not eligible to vote in Stanlau!\")\n",
        "\n",
        "    if age >= Mayengua:  # Fixed indentation\n",
        "        print(f\"Your age is {age}. You are eligible to vote in Mayengua!\")\n",
        "    else:\n",
        "        print(f\"Your age is {age}. You are not eligible to vote in Mayengua!\")\n",
        "\n",
        "if __name__ == \"__main__\":\n",
        "    main()"
      ],
      "metadata": {
        "colab": {
          "base_uri": "https://localhost:8080/"
        },
        "id": "bNiH09n74Tg_",
        "outputId": "9605ccf9-8cc2-4c97-8fa6-9ccefc3721ee"
      },
      "execution_count": null,
      "outputs": [
        {
          "output_type": "stream",
          "name": "stdout",
          "text": [
            "02_international_voting_age\n",
            "How old are you? 28\n",
            "Your age is 28. You are eligible to vote in Peturksbouipo!\n",
            "Your age is 28. You are eligible to vote in Stanlau!\n",
            "Your age is 28. You are not eligible to vote in Mayengua!\n"
          ]
        }
      ]
    },
    {
      "cell_type": "code",
      "source": [
        "print(\"03_leap_year\")\n",
        "\n",
        "def leap_year():\n",
        "        year: int = int(input(\"Enter a year: \"))\n",
        "\n",
        "        if year % 4 == 0:\n",
        "         if year % 100 == 0:\n",
        "          if year % 400 == 0:\n",
        "            print(f\"{year} is a leap year.\")\n",
        "        else:\n",
        "            print(f\"{year} is not a leap year.\")\n",
        "        else:\n",
        "          print(f\"{year}is not a leap year.\")\n",
        "        else:\n",
        "          print(f\"{year}is not a leap year.\")\n",
        "\n",
        "\n",
        "if __name__ == \"__main__\":\n",
        "    leap_year()"
      ],
      "metadata": {
        "colab": {
          "base_uri": "https://localhost:8080/"
        },
        "id": "KQoorGyc8XuG",
        "outputId": "bd54e955-4409-41f7-e713-a0fa1d0f9752"
      },
      "execution_count": null,
      "outputs": [
        {
          "output_type": "stream",
          "name": "stdout",
          "text": [
            "03_leap_year\n",
            "Enter a year: 2025\n",
            "2025 is not a leap year.\n"
          ]
        }
      ]
    },
    {
      "cell_type": "code",
      "source": [
        "print(\"04_tall_enough_to_ride\")\n",
        "\n",
        "min_height: int = 50\n",
        "\n",
        "def main():\n",
        "    user: int = int(input(\"How tall are you? \"))\n",
        "    if user >= min_height:\n",
        "        print(\"You are tall enough to ride.\")\n",
        "    else:\n",
        "        print(\"You are not tall enough to ride. Maybe next year.\")\n",
        "\n",
        "if __name__ == \"__main__\":\n",
        "    main()\n"
      ],
      "metadata": {
        "colab": {
          "base_uri": "https://localhost:8080/"
        },
        "id": "NsO8-nD2JQFf",
        "outputId": "05adb92b-e18f-41c9-d685-24d83061e1f5"
      },
      "execution_count": null,
      "outputs": [
        {
          "output_type": "stream",
          "name": "stdout",
          "text": [
            "04_tall_enough_to_ride\n",
            "How tall are you? 5\n",
            "You are not tall enough to ride. Maybe next year.\n"
          ]
        }
      ]
    },
    {
      "cell_type": "code",
      "source": [
        "import random\n",
        "\n",
        "def main():\n",
        "    for i in range(10):\n",
        "        num: int = random.randint(1, 100)\n",
        "        print(num)\n",
        "\n",
        "if __name__ == \"__main__\":\n",
        "    main()\n"
      ],
      "metadata": {
        "colab": {
          "base_uri": "https://localhost:8080/"
        },
        "id": "6NQrVEq3Je9t",
        "outputId": "a2c11e2d-c7cd-4ea3-8fb4-2d6ab81a162a"
      },
      "execution_count": null,
      "outputs": [
        {
          "output_type": "stream",
          "name": "stdout",
          "text": [
            "43\n",
            "5\n",
            "95\n",
            "72\n",
            "18\n",
            "66\n",
            "43\n",
            "2\n",
            "75\n",
            "70\n"
          ]
        }
      ]
    }
  ]
}