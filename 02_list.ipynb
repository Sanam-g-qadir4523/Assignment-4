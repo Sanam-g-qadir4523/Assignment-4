{
  "nbformat": 4,
  "nbformat_minor": 0,
  "metadata": {
    "colab": {
      "provenance": [],
      "authorship_tag": "ABX9TyOvdG2GqGsqmi354HWt+JvD",
      "include_colab_link": true
    },
    "kernelspec": {
      "name": "python3",
      "display_name": "Python 3"
    },
    "language_info": {
      "name": "python"
    }
  },
  "cells": [
    {
      "cell_type": "markdown",
      "metadata": {
        "id": "view-in-github",
        "colab_type": "text"
      },
      "source": [
        "<a href=\"https://colab.research.google.com/github/Sanam-g-qadir4523/Assignment-4/blob/main/02_list.ipynb\" target=\"_parent\"><img src=\"https://colab.research.google.com/assets/colab-badge.svg\" alt=\"Open In Colab\"/></a>"
      ]
    },
    {
      "cell_type": "code",
      "execution_count": null,
      "metadata": {
        "colab": {
          "base_uri": "https://localhost:8080/"
        },
        "id": "LqSa-n0sg1se",
        "outputId": "882ea91c-1604-466c-dd29-3ee68e97f1d5"
      },
      "outputs": [
        {
          "output_type": "stream",
          "name": "stdout",
          "text": [
            "01_add_many_numbers\n",
            "The sum of numbers [1, 2, 3, 4, 5, 6] is: 21\n"
          ]
        }
      ],
      "source": [
        "print(\"01_add_many_numbers\")\n",
        "\n",
        "def add_numbers(numbers: list[int]) -> int:\n",
        "    total: int = 0\n",
        "    for n in numbers:\n",
        "        total += n\n",
        "    return total\n",
        "\n",
        "def main():\n",
        "    numbers: list[int] = [1, 2, 3, 4, 5, 6]\n",
        "    sum_result: int = add_numbers(numbers)\n",
        "    print(f\"The sum of numbers {numbers} is: {sum_result}\")\n",
        "\n",
        "if __name__ == \"__main__\":\n",
        "    main()\n",
        "\n"
      ]
    },
    {
      "cell_type": "code",
      "source": [
        "print(\"02_double_list\")\n",
        "\n",
        "def main():\n",
        " numbers: list[int] =[1,2,3,4,5]\n",
        " for i in range(len(numbers)):\n",
        "  index = numbers[i]\n",
        "  numbers[i] = index * 2\n",
        "  print(numbers)\n",
        "\n",
        "if __name__ == \"__main__\":\n",
        "    main()\n"
      ],
      "metadata": {
        "colab": {
          "base_uri": "https://localhost:8080/"
        },
        "id": "MteeeC4g_QAX",
        "outputId": "618adad8-9531-4f8f-c0f0-471483740dd5"
      },
      "execution_count": null,
      "outputs": [
        {
          "output_type": "stream",
          "name": "stdout",
          "text": [
            "02_double_list\n",
            "[2, 2, 3, 4, 5]\n",
            "[2, 4, 3, 4, 5]\n",
            "[2, 4, 6, 4, 5]\n",
            "[2, 4, 6, 8, 5]\n",
            "[2, 4, 6, 8, 10]\n"
          ]
        }
      ]
    },
    {
      "cell_type": "code",
      "source": [
        "print(\"04_flowing_with_data_structures\")\n",
        "\n",
        "def add_copies(my_list, data):\n",
        "    for i in range(3):\n",
        "        my_list.append(data)\n",
        "\n",
        "def main():\n",
        "    message = input(\"Enter a message to copy: \")\n",
        "    my_list = []\n",
        "\n",
        "    print(\"List before:\", my_list)\n",
        "    add_copies(my_list, message)\n",
        "    print(\"List after:\", my_list)\n",
        "\n",
        "if __name__ == \"__main__\":\n",
        "    main()\n"
      ],
      "metadata": {
        "colab": {
          "base_uri": "https://localhost:8080/"
        },
        "id": "Xhy-rF6isPcs",
        "outputId": "5d0170d3-fd8b-412d-b5a5-244754a6bbdb"
      },
      "execution_count": null,
      "outputs": [
        {
          "output_type": "stream",
          "name": "stdout",
          "text": [
            "04_flowing_with_data_structures\n",
            "Enter a message to copy: code with sana\n",
            "List before: []\n",
            "List after: ['code with sana', 'code with sana', 'code with sana']\n"
          ]
        }
      ]
    },
    {
      "cell_type": "code",
      "source": [
        "print(\"05_get_first_element\")\n",
        "\n",
        "def get_first_element(lst):\n",
        "    if lst:\n",
        "        print(lst[0])\n",
        "    else:\n",
        "        print(\"List is empty!\")\n",
        "\n",
        "def get_lst():\n",
        "    lst = []\n",
        "    while True:\n",
        "        element = input(\"Enter an element to add to the list: \")\n",
        "        if element == \"\":\n",
        "            break\n",
        "        lst.append(element)\n",
        "    return lst\n",
        "\n",
        "def main():\n",
        "    my_list = get_lst()\n",
        "    get_first_element(my_list)\n",
        "\n",
        "main()\n"
      ],
      "metadata": {
        "colab": {
          "base_uri": "https://localhost:8080/"
        },
        "id": "HPFItmZBucFM",
        "outputId": "1de481fe-edf8-458a-f9bd-b6cce03bab1c"
      },
      "execution_count": null,
      "outputs": [
        {
          "output_type": "stream",
          "name": "stdout",
          "text": [
            "05_get_first_element\n",
            "Enter an element to add to the list: 20\n",
            "Enter an element to add to the list: \n",
            "20\n"
          ]
        }
      ]
    },
    {
      "cell_type": "code",
      "source": [
        "print(\"06_get_last_element\")\n",
        "\n",
        "def get_last_element(lst):\n",
        "    print(lst[-1])\n",
        "\n",
        "def main():\n",
        "    lst = [1, 2, 3, 4, 5]\n",
        "    get_last_element(lst)\n",
        "\n",
        "if __name__ == \"__main__\":\n",
        "    main()\n"
      ],
      "metadata": {
        "colab": {
          "base_uri": "https://localhost:8080/"
        },
        "id": "L6p6hL9Yu0lK",
        "outputId": "a9272df8-ce1e-4e6f-fcaa-67139d50925a"
      },
      "execution_count": null,
      "outputs": [
        {
          "output_type": "stream",
          "name": "stdout",
          "text": [
            "06_get_last_element\n",
            "5\n"
          ]
        }
      ]
    },
    {
      "cell_type": "code",
      "source": [
        "print(\"07_get_list\")\n",
        "\n",
        "def main():\n",
        "    lst = []\n",
        "    while True:\n",
        "        val = input(\"Enter a value to add to the list: \")\n",
        "        if val == \"\":\n",
        "            break\n",
        "        lst.append(val)\n",
        "\n",
        "    print(\"Here is the list:\", lst)\n",
        "\n",
        "if __name__ == \"__main__\":\n",
        "    main()\n"
      ],
      "metadata": {
        "colab": {
          "base_uri": "https://localhost:8080/"
        },
        "id": "zjBANNCuvZyC",
        "outputId": "97325bde-68d0-445e-b466-9db1156fdaff"
      },
      "execution_count": null,
      "outputs": [
        {
          "output_type": "stream",
          "name": "stdout",
          "text": [
            "07_get_list\n",
            "Enter a value to add to the list: 20\n",
            "Enter a value to add to the list: 23\n",
            "Enter a value to add to the list: 23\n",
            "Enter a value to add to the list: \n",
            "Here is the list: ['20', '23', '23']\n"
          ]
        }
      ]
    },
    {
      "cell_type": "code",
      "source": [
        "print(\"08_shorten\")\n",
        "\n",
        "MAX_LENGTH: int = 3\n",
        "def shorten(lst):\n",
        "     while len(lst) > MAX_LENGTH:\n",
        "       last_element =lst.pop()\n",
        "       print(last_element)\n",
        "\n",
        "def get_lst():\n",
        "    lst = []\n",
        "    element = input(\"Enter an element to add to the list:\")\n",
        "    while element != \"\":\n",
        "        lst.append(element)\n",
        "        element = input(\"Enter an element to add to the list:\")\n",
        "    return lst\n",
        "\n",
        "\n",
        "def main():\n",
        "    lst = get_lst()\n",
        "    shorten(lst)\n",
        "\n",
        "\n",
        "if __name__ == \"__main__\":\n",
        "    main()\n",
        "\n"
      ],
      "metadata": {
        "colab": {
          "base_uri": "https://localhost:8080/"
        },
        "id": "1BSZ5N-6waCs",
        "outputId": "4d461f2f-a931-4264-b52d-196bc19b4dde"
      },
      "execution_count": null,
      "outputs": [
        {
          "name": "stdout",
          "output_type": "stream",
          "text": [
            "08_shorten\n",
            "Enter an element to add to the list:sana\n",
            "Enter an element to add to the list:g.qadir\n",
            "Enter an element to add to the list:\n"
          ]
        }
      ]
    }
  ]
}